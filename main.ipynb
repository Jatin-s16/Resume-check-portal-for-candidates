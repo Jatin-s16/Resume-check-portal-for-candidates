{
 "cells": [
  {
   "cell_type": "code",
   "execution_count": 1,
   "metadata": {},
   "outputs": [
    {
     "name": "stderr",
     "output_type": "stream",
     "text": [
      "/Users/jatin/Documents/Jatin/DS_Projects/ResumeShortlist/shortlist-env/lib/python3.10/site-packages/tqdm/auto.py:21: TqdmWarning: IProgress not found. Please update jupyter and ipywidgets. See https://ipywidgets.readthedocs.io/en/stable/user_install.html\n",
      "  from .autonotebook import tqdm as notebook_tqdm\n"
     ]
    }
   ],
   "source": [
    "import fitz \n",
    "import spacy\n",
    "import re\n",
    "from sentence_transformers import SentenceTransformer\n",
    "from sklearn.metrics.pairwise import cosine_similarity\n",
    "\n",
    "nlp = spacy.load(\"en_core_web_sm\")\n",
    "model = SentenceTransformer(\"all-MiniLM-L6-v2\") "
   ]
  },
  {
   "cell_type": "markdown",
   "metadata": {},
   "source": [
    "## Extracting text from both resume and job description pdf"
   ]
  },
  {
   "cell_type": "code",
   "execution_count": 2,
   "metadata": {},
   "outputs": [],
   "source": [
    "def extract_text_from_pdf(pdf_file):\n",
    "    try:\n",
    "        with fitz.open(stream=pdf_file.read(), filetype=\"pdf\") as doc:\n",
    "            return \" \".join([page.get_text() for page in doc])\n",
    "    except Exception as e:\n",
    "        return f\"Error reading PDF: {e}\""
   ]
  },
  {
   "cell_type": "code",
   "execution_count": 3,
   "metadata": {},
   "outputs": [],
   "source": [
    "def preprocess(text):\n",
    "    text = text.lower()\n",
    "    text = re.sub(r'\\s+', ' ', text)  \n",
    "    doc = nlp(text)\n",
    "    tokens = [token.lemma_ for token in doc if token.is_alpha and not token.is_stop]\n",
    "    return \" \".join(tokens)"
   ]
  },
  {
   "cell_type": "code",
   "execution_count": 4,
   "metadata": {},
   "outputs": [],
   "source": [
    "def extract_sections(text):\n",
    "    sections = {\"skills\": [], \"experience\": [], \"education\": []}\n",
    "    current_section = None\n",
    "\n",
    "    for line in text.splitlines():\n",
    "        line_lower = line.strip().lower()\n",
    "        if \"skill\" in line_lower:\n",
    "            current_section = \"skills\"\n",
    "        elif \"experience\" in line_lower:\n",
    "            current_section = \"experience\"\n",
    "        elif \"education\" in line_lower:\n",
    "            current_section = \"education\"\n",
    "        elif current_section:\n",
    "            sections[current_section].append(line.strip())\n",
    "\n",
    "    return {k: \" \".join(v) for k, v in sections.items()}"
   ]
  },
  {
   "cell_type": "code",
   "execution_count": 5,
   "metadata": {},
   "outputs": [],
   "source": [
    "def get_similarity(text1, text2):\n",
    "    emb1 = model.encode([text1])[0]\n",
    "    emb2 = model.encode([text2])[0]\n",
    "    return cosine_similarity([emb1], [emb2])[0][0]"
   ]
  },
  {
   "cell_type": "code",
   "execution_count": 6,
   "metadata": {},
   "outputs": [],
   "source": [
    "def rate_resume_against_jd(resume_file, jd_file):\n",
    "   \n",
    "    resume_text = extract_text_from_pdf(resume_file)\n",
    "    jd_text = extract_text_from_pdf(jd_file)\n",
    "\n",
    "    if \"Error\" in resume_text or \"Error\" in jd_text:\n",
    "        return 0.0\n",
    "\n",
    "    resume_clean = preprocess(resume_text)\n",
    "    jd_clean = preprocess(jd_text)\n",
    "\n",
    "    \n",
    "    base_score = get_similarity(jd_clean, resume_clean)\n",
    "\n",
    "    \n",
    "    sections = extract_sections(resume_text)\n",
    "    weights = {\"skills\": 0.4, \"experience\": 0.3, \"education\": 0.2}\n",
    "    boost = 0\n",
    "\n",
    "    for section, weight in weights.items():\n",
    "        section_text = preprocess(sections.get(section, \"\"))\n",
    "        if section_text:\n",
    "            score = get_similarity(jd_clean, section_text)\n",
    "            boost += score * weight\n",
    "\n",
    "    final_score = min((base_score * 0.5 + boost) * 10, 10)\n",
    "    return round(final_score, 2)"
   ]
  }
 ],
 "metadata": {
  "kernelspec": {
   "display_name": "shortlist-env",
   "language": "python",
   "name": "python3"
  },
  "language_info": {
   "codemirror_mode": {
    "name": "ipython",
    "version": 3
   },
   "file_extension": ".py",
   "mimetype": "text/x-python",
   "name": "python",
   "nbconvert_exporter": "python",
   "pygments_lexer": "ipython3",
   "version": "3.10.16"
  }
 },
 "nbformat": 4,
 "nbformat_minor": 2
}
