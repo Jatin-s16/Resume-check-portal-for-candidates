{
 "cells": [
  {
   "cell_type": "code",
   "execution_count": 1,
   "metadata": {},
   "outputs": [],
   "source": [
    "import fitz \n",
    "import spacy\n",
    "import re\n",
    "\n",
    "nlp = spacy.load(\"en_core_web_sm\")"
   ]
  },
  {
   "cell_type": "markdown",
   "metadata": {},
   "source": [
    "## Extracting text from both resume and job description pdf"
   ]
  },
  {
   "cell_type": "code",
   "execution_count": 2,
   "metadata": {},
   "outputs": [],
   "source": [
    "def extract_text_from_pdf(pdf_file):\n",
    "    try:\n",
    "        with fitz.open(stream=pdf_file.read(), filetype=\"pdf\") as doc:\n",
    "            return \" \".join([page.get_text() for page in doc])\n",
    "    except Exception as e:\n",
    "        return f\"Error reading PDF: {e}\""
   ]
  },
  {
   "cell_type": "code",
   "execution_count": 3,
   "metadata": {},
   "outputs": [],
   "source": [
    "def preprocess(text):\n",
    "    text = text.lower()\n",
    "    text = re.sub(r'\\s+', ' ', text)  # Remove extra spaces/newlines\n",
    "    doc = nlp(text)\n",
    "    tokens = [token.lemma_ for token in doc if token.is_alpha and not token.is_stop]\n",
    "    return \" \".join(tokens)"
   ]
  },
  {
   "cell_type": "code",
   "execution_count": 4,
   "metadata": {},
   "outputs": [],
   "source": [
    "def extract_sections(text):\n",
    "    sections = {\"skills\": [], \"experience\": [], \"education\": []}\n",
    "    current_section = None\n",
    "\n",
    "    for line in text.splitlines():\n",
    "        line_lower = line.strip().lower()\n",
    "        if \"skill\" in line_lower:\n",
    "            current_section = \"skills\"\n",
    "        elif \"experience\" in line_lower:\n",
    "            current_section = \"experience\"\n",
    "        elif \"education\" in line_lower:\n",
    "            current_section = \"education\"\n",
    "        elif current_section:\n",
    "            sections[current_section].append(line.strip())\n",
    "\n",
    "    return {k: \" \".join(v) for k, v in sections.items()}"
   ]
  },
  {
   "cell_type": "code",
   "execution_count": 5,
   "metadata": {},
   "outputs": [],
   "source": [
    "from sklearn.feature_extraction.text import TfidfVectorizer\n",
    "from sklearn.metrics.pairwise import cosine_similarity\n",
    "\n",
    "\n",
    "def rate_resume_against_jd(resume_file, jd_file):\n",
    "    # Extract and preprocess\n",
    "    resume_text = extract_text_from_pdf(resume_file)\n",
    "    jd_text = extract_text_from_pdf(jd_file)\n",
    "\n",
    "    resume_clean = preprocess(resume_text)\n",
    "    jd_clean = preprocess(jd_text)\n",
    "\n",
    "    # TF-IDF vectorization + similarity\n",
    "    vectorizer = TfidfVectorizer()\n",
    "    vectors = vectorizer.fit_transform([jd_clean, resume_clean])\n",
    "    similarity = cosine_similarity(vectors[0], vectors[1])[0][0]\n",
    "\n",
    "    # Optional: boost based on structured sections\n",
    "    resume_sections = extract_sections(resume_text)\n",
    "    boost = 0\n",
    "\n",
    "    for section in [\"skills\", \"experience\", \"education\"]:\n",
    "        section_text = preprocess(resume_sections.get(section, \"\"))\n",
    "        if section_text:\n",
    "            vecs = vectorizer.transform([jd_clean, section_text])\n",
    "            score = cosine_similarity(vecs[0], vecs[1])[0][0]\n",
    "            boost += score * 0.1  # small weighted bonus\n",
    "    \n",
    "    # Final score (scaled out of 10)\n",
    "    final_score = min((similarity + boost) * 10, 10)\n",
    "    return round(final_score, 2)"
   ]
  }
 ],
 "metadata": {
  "kernelspec": {
   "display_name": "shortlist-env",
   "language": "python",
   "name": "python3"
  },
  "language_info": {
   "codemirror_mode": {
    "name": "ipython",
    "version": 3
   },
   "file_extension": ".py",
   "mimetype": "text/x-python",
   "name": "python",
   "nbconvert_exporter": "python",
   "pygments_lexer": "ipython3",
   "version": "3.10.16"
  }
 },
 "nbformat": 4,
 "nbformat_minor": 2
}
